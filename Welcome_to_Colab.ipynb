{
  "cells": [
    {
      "cell_type": "markdown",
      "metadata": {
        "id": "view-in-github",
        "colab_type": "text"
      },
      "source": [
        "<a href=\"https://colab.research.google.com/github/NIRAJ-SH/denvey/blob/main/Welcome_to_Colab.ipynb\" target=\"_parent\"><img src=\"https://colab.research.google.com/assets/colab-badge.svg\" alt=\"Open In Colab\"/></a>"
      ]
    },
    {
      "cell_type": "code",
      "source": [
        "import pandas as pd\n",
        "from sklearn.model_selection import train_test_split\n",
        "from sklearn.linear_model import LogisticRegression\n",
        "from sklearn.metrics import accuracy_score\n",
        "\n",
        "# 1. Load the dataset from CSV file\n",
        "df = pd.read_csv('your_dataset.csv')  # Replace with your CSV filename\n",
        "\n",
        "# 2. Display dataset contents\n",
        "print(\"Dataset Preview:\")\n",
        "print(df.head())\n",
        "\n",
        "# 3. Handle missing values (optional but recommended)\n",
        "df = df.dropna()  # You can also use df.fillna(method='ffill')\n",
        "\n",
        "# 4. Separate features (X) and target (y)\n",
        "# Assuming the last column is the target variable\n",
        "X = df.iloc[:, :-1]  # All columns except the last\n",
        "y = df.iloc[:, -1]   # Last column as target\n",
        "\n",
        "# 5. Split into training and testing sets (70%-30%)\n",
        "X_train, X_test, y_train, y_test = train_test_split(X, y, test_size=0.3, random_state=42)\n",
        "\n",
        "# 6. Display training data\n",
        "print(\"\\nTraining Data (X_train):\")\n",
        "print(X_train.head())\n",
        "\n",
        "# 7. Apply Logistic Regression\n",
        "model = LogisticRegression(max_iter=1000)  # Increase max_iter to ensure convergence\n",
        "model.fit(X_train, y_train)\n",
        "y_pred = model.predict(X_test)\n",
        "\n",
        "# 8. Display model accuracy\n",
        "accuracy = accuracy_score(y_test, y_pred)\n",
        "print(f\"\\nModel Accuracy: {accuracy:.2f}\")"
      ],
      "metadata": {
        "id": "bd0RrNZEXh_U"
      },
      "execution_count": null,
      "outputs": []
    }
  ],
  "metadata": {
    "colab": {
      "name": "Welcome to Colab",
      "provenance": [],
      "include_colab_link": true
    },
    "kernelspec": {
      "display_name": "Python 3",
      "name": "python3"
    }
  },
  "nbformat": 4,
  "nbformat_minor": 0
}