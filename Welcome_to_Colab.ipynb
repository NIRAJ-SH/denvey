{
  "cells": [
    {
      "cell_type": "markdown",
      "metadata": {
        "id": "view-in-github",
        "colab_type": "text"
      },
      "source": [
        "<a href=\"https://colab.research.google.com/github/NIRAJ-SH/denvey/blob/main/Welcome_to_Colab.ipynb\" target=\"_parent\"><img src=\"https://colab.research.google.com/assets/colab-badge.svg\" alt=\"Open In Colab\"/></a>"
      ]
    },
    {
      "cell_type": "code",
      "source": [
        "import pandas as pd\n",
        "from sklearn.model_selection import train_test_split\n",
        "from sklearn.tree import DecisionTreeClassifier  # You can change the model if needed\n",
        "from sklearn.metrics import accuracy_score\n",
        "\n",
        "# 1. Load the dataset from CSV file\n",
        "df = pd.read_csv('your_dataset.csv')  # Replace with your actual CSV filename\n",
        "\n",
        "# 2. Display dataset contents\n",
        "print(\"Dataset Preview:\")\n",
        "print(df.head())\n",
        "\n",
        "# 3. Handle missing values (drop or fill)\n",
        "df = df.dropna()  # You can also use df.fillna(method='ffill') if you prefer\n",
        "\n",
        "# 4. Separate independent features (X) and target (y)\n",
        "# Assume the last column is the target. Adjust if different.\n",
        "X = df.iloc[:, :-1]  # All columns except last\n",
        "y = df.iloc[:, -1]   # Last column\n",
        "\n",
        "print(\"\\nIndependent Features (X):\")\n",
        "print(X.head())\n",
        "\n",
        "# 5. Train-test split (70% training, 30% testing)\n",
        "X_train, X_test, y_train, y_test = train_test_split(X, y, test_size=0.3, random_state=42)\n",
        "\n",
        "# 6. Classification model (Decision Tree example)\n",
        "model = DecisionTreeClassifier()\n",
        "model.fit(X_train, y_train)\n",
        "y_pred = model.predict(X_test)\n",
        "\n",
        "# 7. Accuracy of the model\n",
        "accuracy = accuracy_score(y_test, y_pred)\n",
        "print(f\"\\nAccuracy of the model: {accuracy:.2f}\")"
      ],
      "metadata": {
        "id": "_5mBMRU6WunU"
      },
      "execution_count": null,
      "outputs": []
    }
  ],
  "metadata": {
    "colab": {
      "name": "Welcome to Colab",
      "provenance": [],
      "include_colab_link": true
    },
    "kernelspec": {
      "display_name": "Python 3",
      "name": "python3"
    }
  },
  "nbformat": 4,
  "nbformat_minor": 0
}